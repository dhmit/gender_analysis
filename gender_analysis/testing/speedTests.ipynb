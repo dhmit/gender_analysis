{
 "cells": [
  {
   "cell_type": "code",
   "execution_count": 3,
   "metadata": {},
   "outputs": [],
   "source": [
    "from collections import Counter"
   ]
  },
  {
   "cell_type": "code",
   "execution_count": 2,
   "metadata": {},
   "outputs": [],
   "source": [
    "import gender_guesser.detector as gender\n",
    "d = gender.Detector()"
   ]
  },
  {
   "cell_type": "code",
   "execution_count": 4,
   "metadata": {},
   "outputs": [],
   "source": [
    "word_counter = {}"
   ]
  },
  {
   "cell_type": "code",
   "execution_count": 5,
   "metadata": {},
   "outputs": [],
   "source": [
    "with open('sample_novels/dickens_twocities.txt') as f:\n",
    "    dickens = f.read()"
   ]
  },
  {
   "cell_type": "code",
   "execution_count": 6,
   "metadata": {},
   "outputs": [
    {
     "data": {
      "text/plain": [
       "138883"
      ]
     },
     "execution_count": 6,
     "metadata": {},
     "output_type": "execute_result"
    }
   ],
   "source": [
    "dickens_words = dickens.split()\n",
    "len(dickens_words)"
   ]
  },
  {
   "cell_type": "code",
   "execution_count": 7,
   "metadata": {},
   "outputs": [],
   "source": [
    "dickens_caps = [w for w in dickens_words if w[0].upper() == w[0]]"
   ]
  },
  {
   "cell_type": "code",
   "execution_count": 8,
   "metadata": {},
   "outputs": [
    {
     "data": {
      "text/plain": [
       "15977"
      ]
     },
     "execution_count": 8,
     "metadata": {},
     "output_type": "execute_result"
    }
   ],
   "source": [
    "len(dickens_caps)"
   ]
  },
  {
   "cell_type": "code",
   "execution_count": 15,
   "metadata": {},
   "outputs": [],
   "source": [
    "def gen_gen(words):\n",
    "    word_list = []\n",
    "    for w in words:\n",
    "        gendw = d.get_gender(w, 'great_britain')\n",
    "        if gendw in ('andy', 'unknown'):\n",
    "            continue\n",
    "        word_list.append((w, gendw))\n",
    "    return word_list"
   ]
  },
  {
   "cell_type": "code",
   "execution_count": 22,
   "metadata": {},
   "outputs": [
    {
     "data": {
      "text/plain": [
       "[('Charles', 'male'),\n",
       " ('Charles', 'male'),\n",
       " ('March', 'male'),\n",
       " ('Judith', 'female'),\n",
       " ('Charles', 'male'),\n",
       " ('Storm', 'mostly_male'),\n",
       " ('Storm', 'mostly_male'),\n",
       " ('Christian', 'male'),\n",
       " ('Jarvis', 'male'),\n",
       " ('Jerry', 'male'),\n",
       " ('Royal', 'male'),\n",
       " ('George', 'male'),\n",
       " ('Royal', 'male'),\n",
       " ('Jarvis', 'male'),\n",
       " ('George', 'male'),\n",
       " ('Jarvis', 'male'),\n",
       " ('Jarvis', 'male'),\n",
       " ('Christian', 'male'),\n",
       " ('Christian', 'male'),\n",
       " ('Christian', 'male'),\n",
       " ('Jarvis', 'male'),\n",
       " ('Jarvis', 'male'),\n",
       " ('Jarvis', 'male'),\n",
       " ('March', 'male'),\n",
       " ('Anna', 'female'),\n",
       " ('Christian', 'male'),\n",
       " ('March', 'male'),\n",
       " ('Jerry', 'male'),\n",
       " ('Jerry', 'male'),\n",
       " ('March', 'male'),\n",
       " ('Jerry', 'male'),\n",
       " ('Jerry', 'male'),\n",
       " ('Jerry', 'male'),\n",
       " ('Jerry', 'male'),\n",
       " ('Jerry', 'male'),\n",
       " ('Jerry', 'male'),\n",
       " ('Jerry', 'male'),\n",
       " ('Jerry', 'male'),\n",
       " ('Jerry', 'male'),\n",
       " ('Jerry', 'male'),\n",
       " ('Charles', 'male'),\n",
       " ('Lewis', 'male'),\n",
       " ('Charles', 'male'),\n",
       " ('John', 'male'),\n",
       " ('Roger', 'male'),\n",
       " ('Jarvis', 'male'),\n",
       " ('Jarvis', 'male'),\n",
       " ('George', 'male'),\n",
       " ('George', 'male'),\n",
       " ('George', 'male'),\n",
       " ('George', 'male'),\n",
       " ('George', 'male'),\n",
       " ('Jerry', 'male'),\n",
       " ('Jerry', 'male'),\n",
       " ('Jerry', 'male'),\n",
       " ('Lucie', 'female'),\n",
       " ('Charles', 'male'),\n",
       " ('Lucie', 'female'),\n",
       " ('Lucie', 'female'),\n",
       " ('Charles', 'male'),\n",
       " ('Charles', 'male'),\n",
       " ('Charles', 'male'),\n",
       " ('Charles', 'male'),\n",
       " ('Sydney', 'mostly_male'),\n",
       " ('Sydney', 'mostly_male'),\n",
       " ('Hilary', 'female'),\n",
       " ('Sydney', 'mostly_male'),\n",
       " ('Sydney', 'mostly_male'),\n",
       " ('Sydney', 'mostly_male'),\n",
       " ('Jarvis', 'male'),\n",
       " ('Jarvis', 'male'),\n",
       " ('Lucie', 'female'),\n",
       " ('Royal', 'male'),\n",
       " ('George', 'male'),\n",
       " ('Ear', 'male'),\n",
       " ('Lucie', 'female'),\n",
       " ('Lucie', 'female'),\n",
       " ('Lucie', 'female'),\n",
       " ('Charles', 'male'),\n",
       " ('Lucie', 'female'),\n",
       " ('Sydney', 'mostly_male'),\n",
       " ('Jerry', 'male'),\n",
       " ('Stuart', 'male'),\n",
       " ('Louis', 'male'),\n",
       " ('Charles', 'male'),\n",
       " ('Charles', 'male'),\n",
       " ('Lucie', 'female'),\n",
       " ('Lucie', 'female'),\n",
       " ('Charles', 'male'),\n",
       " ('Sydney', 'mostly_male'),\n",
       " ('Lucie', 'female'),\n",
       " ('Charles', 'male'),\n",
       " ('Charles', 'male'),\n",
       " ('Charles', 'male'),\n",
       " ('Lucie', 'female'),\n",
       " ('Charles', 'male'),\n",
       " ('Lucie', 'female'),\n",
       " ('Charles', 'male'),\n",
       " ('Lucie', 'female'),\n",
       " ('Lucie', 'female'),\n",
       " ('Charles', 'male'),\n",
       " ('Lucie', 'female'),\n",
       " ('Sydney', 'mostly_male'),\n",
       " ('Sydney', 'mostly_male'),\n",
       " ('Sydney', 'mostly_male'),\n",
       " ('Sydney', 'mostly_male'),\n",
       " ('Sydney', 'mostly_male'),\n",
       " ('Sydney', 'mostly_male'),\n",
       " ('Sydney', 'mostly_male'),\n",
       " ('Sydney', 'mostly_male'),\n",
       " ('Lucie', 'female'),\n",
       " ('May', 'female'),\n",
       " ('Lucie', 'female'),\n",
       " ('Jeremiah', 'male'),\n",
       " ('Jerry', 'male'),\n",
       " ('Jerry', 'male'),\n",
       " ('Roger', 'male'),\n",
       " ('Jerry', 'male'),\n",
       " ('Roger', 'male'),\n",
       " ('Jerry', 'male'),\n",
       " ('Jerry', 'male'),\n",
       " ('Jerry', 'male'),\n",
       " ('Jerry', 'male'),\n",
       " ('Jerry', 'male'),\n",
       " ('Jerry', 'male'),\n",
       " ('Jerry', 'male'),\n",
       " ('Jerry', 'male'),\n",
       " ('Jerry', 'male'),\n",
       " ('Jerry', 'male'),\n",
       " ('Louis', 'male'),\n",
       " ('Christian', 'male'),\n",
       " ('May', 'female'),\n",
       " ('Ernest', 'male'),\n",
       " ('Charles', 'male'),\n",
       " ('Lucie', 'female'),\n",
       " ('Charles', 'male'),\n",
       " ('Lucie', 'female'),\n",
       " ('Lucie', 'female'),\n",
       " ('Charles', 'male'),\n",
       " ('Charles', 'male'),\n",
       " ('Charles', 'male'),\n",
       " ('Lucie', 'female'),\n",
       " ('Lucie', 'female'),\n",
       " ('Jarvis', 'male'),\n",
       " ('Lucie', 'female'),\n",
       " ('Lucie', 'female'),\n",
       " ('Sydney', 'mostly_male'),\n",
       " ('Charles', 'male'),\n",
       " ('Charles', 'male'),\n",
       " ('Sydney', 'mostly_male'),\n",
       " ('Charles', 'male'),\n",
       " ('Sydney', 'mostly_male'),\n",
       " ('Charles', 'male'),\n",
       " ('Lucie', 'female'),\n",
       " ('Lucie', 'female'),\n",
       " ('Lucie', 'female'),\n",
       " ('Sydney', 'mostly_male'),\n",
       " ('Lucie', 'female'),\n",
       " ('Sydney', 'mostly_male'),\n",
       " ('Lucie', 'female'),\n",
       " ('Lucie', 'female'),\n",
       " ('Lucie', 'female'),\n",
       " ('Charles', 'male'),\n",
       " ('Charles', 'male'),\n",
       " ('Charles', 'male'),\n",
       " ('Charles', 'male'),\n",
       " ('Jerry', 'male'),\n",
       " ('Jerry', 'male'),\n",
       " ('Charles', 'male'),\n",
       " ('Charles', 'male'),\n",
       " ('Charles', 'male'),\n",
       " ('Charles', 'male'),\n",
       " ('Lucie', 'female'),\n",
       " ('Lucie', 'female'),\n",
       " ('Jerry', 'male'),\n",
       " ('Charles', 'male'),\n",
       " ('Charles', 'male'),\n",
       " ('Lucie', 'female'),\n",
       " ('Storm', 'mostly_male'),\n",
       " ('Charles', 'male'),\n",
       " ('Charles', 'male'),\n",
       " ('Charles', 'male'),\n",
       " ('Liberty', 'female'),\n",
       " ('Charles', 'male'),\n",
       " ('Charles', 'male'),\n",
       " ('Charles', 'male'),\n",
       " ('Charles', 'male'),\n",
       " ('Charles', 'male'),\n",
       " ('Charles', 'male'),\n",
       " ('May', 'female'),\n",
       " ('Charles', 'male'),\n",
       " ('Charles', 'male'),\n",
       " ('Jarvis', 'male'),\n",
       " ('May', 'female'),\n",
       " ('Lucie', 'female'),\n",
       " ('Lucie', 'female'),\n",
       " ('Charles', 'male'),\n",
       " ('Charles', 'male'),\n",
       " ('Lucie', 'female'),\n",
       " ('Lucie', 'female'),\n",
       " ('Lucie', 'female'),\n",
       " ('Lucie', 'female'),\n",
       " ('Jerry', 'male'),\n",
       " ('Charles', 'male'),\n",
       " ('Lucie', 'female'),\n",
       " ('Lucie', 'female'),\n",
       " ('Lucie', 'female'),\n",
       " ('Lucie', 'female'),\n",
       " ('Storm', 'mostly_male'),\n",
       " ('Lucie', 'female'),\n",
       " ('Charles', 'male'),\n",
       " ('Jarvis', 'male'),\n",
       " ('Lucie', 'female'),\n",
       " ('Lucie', 'female'),\n",
       " ('Charles', 'male'),\n",
       " ('Charles', 'male'),\n",
       " ('Lucie', 'female'),\n",
       " ('Lucie', 'female'),\n",
       " ('Charles', 'male'),\n",
       " ('Samson', 'male'),\n",
       " ('Lucie', 'female'),\n",
       " ('Lucie', 'female'),\n",
       " ('Lucie', 'female'),\n",
       " ('Charles', 'male'),\n",
       " ('Charles', 'male'),\n",
       " ('Charles', 'male'),\n",
       " ('Charles', 'male'),\n",
       " ('Charles', 'male'),\n",
       " ('Jerry', 'male'),\n",
       " ('Jerry', 'male'),\n",
       " ('Charles', 'male'),\n",
       " ('Jerry', 'male'),\n",
       " ('May', 'female'),\n",
       " ('Lucie', 'female'),\n",
       " ('George', 'male'),\n",
       " ('Charles', 'male'),\n",
       " ('Lucie', 'female'),\n",
       " ('Lucie', 'female'),\n",
       " ('John', 'male'),\n",
       " ('Sydney', 'mostly_male'),\n",
       " ('John', 'male'),\n",
       " ('Royal', 'male'),\n",
       " ('George', 'male'),\n",
       " ('Sydney', 'mostly_male'),\n",
       " ('Sydney', 'mostly_male'),\n",
       " ('Sydney', 'mostly_male'),\n",
       " ('Sydney', 'mostly_male'),\n",
       " ('Jack', 'male'),\n",
       " ('Roger', 'male'),\n",
       " ('Sydney', 'mostly_male'),\n",
       " ('Sydney', 'mostly_male'),\n",
       " ('Sydney', 'mostly_male'),\n",
       " ('Sydney', 'mostly_male'),\n",
       " ('Jerry', 'male'),\n",
       " ('Sydney', 'mostly_male'),\n",
       " ('Lucie', 'female'),\n",
       " ('Sydney', 'mostly_male'),\n",
       " ('Sydney', 'mostly_male'),\n",
       " ('Samson', 'male'),\n",
       " ('Sydney', 'mostly_male'),\n",
       " ('Sydney', 'mostly_male'),\n",
       " ('Sydney', 'mostly_male'),\n",
       " ('Sydney', 'mostly_male'),\n",
       " ('Sydney', 'mostly_male'),\n",
       " ('Charles', 'male'),\n",
       " ('Charles', 'male'),\n",
       " ('Ernest', 'male'),\n",
       " ('Hay', 'male'),\n",
       " ('Ernest', 'male'),\n",
       " ('Lucie', 'female'),\n",
       " ('Sydney', 'mostly_male'),\n",
       " ('Charles', 'male'),\n",
       " ('Sydney', 'mostly_male'),\n",
       " ('Sydney', 'mostly_male'),\n",
       " ('Lucie', 'female'),\n",
       " ('Lucie', 'female'),\n",
       " ('Charles', 'male'),\n",
       " ('Lucie', 'female'),\n",
       " ('Sydney', 'mostly_male'),\n",
       " ('Sydney', 'mostly_male'),\n",
       " ('Jarvis', 'male'),\n",
       " ('Jarvis', 'male'),\n",
       " ('Jarvis', 'male'),\n",
       " ('Jarvis', 'male'),\n",
       " ('Jarvis', 'male'),\n",
       " ('Samson', 'male'),\n",
       " ('Jerry', 'male'),\n",
       " ('Lucie', 'female'),\n",
       " ('Therese', 'female'),\n",
       " ('Sydney', 'mostly_male'),\n",
       " ('Charles', 'male'),\n",
       " ('Judith', 'female'),\n",
       " ('Michael', 'male'),\n",
       " ('Gregory', 'male'),\n",
       " ('Michael', 'male')]"
      ]
     },
     "execution_count": 22,
     "metadata": {},
     "output_type": "execute_result"
    }
   ],
   "source": [
    "word_out = gen_gen(dickens_caps)\n",
    "word_out"
   ]
  },
  {
   "cell_type": "code",
   "execution_count": 25,
   "metadata": {},
   "outputs": [],
   "source": [
    "gendered_names = Counter(word_out)"
   ]
  },
  {
   "cell_type": "code",
   "execution_count": 26,
   "metadata": {},
   "outputs": [
    {
     "data": {
      "text/plain": [
       "Counter({('Charles', 'male'): 69,\n",
       "         ('March', 'male'): 4,\n",
       "         ('Judith', 'female'): 2,\n",
       "         ('Storm', 'mostly_male'): 4,\n",
       "         ('Christian', 'male'): 6,\n",
       "         ('Jarvis', 'male'): 19,\n",
       "         ('Jerry', 'male'): 39,\n",
       "         ('Royal', 'male'): 4,\n",
       "         ('George', 'male'): 10,\n",
       "         ('Anna', 'female'): 1,\n",
       "         ('Lewis', 'male'): 1,\n",
       "         ('John', 'male'): 3,\n",
       "         ('Roger', 'male'): 4,\n",
       "         ('Lucie', 'female'): 62,\n",
       "         ('Sydney', 'mostly_male'): 43,\n",
       "         ('Hilary', 'female'): 1,\n",
       "         ('Ear', 'male'): 1,\n",
       "         ('Stuart', 'male'): 1,\n",
       "         ('Louis', 'male'): 2,\n",
       "         ('May', 'female'): 5,\n",
       "         ('Jeremiah', 'male'): 1,\n",
       "         ('Ernest', 'male'): 3,\n",
       "         ('Liberty', 'female'): 1,\n",
       "         ('Samson', 'male'): 3,\n",
       "         ('Jack', 'male'): 1,\n",
       "         ('Hay', 'male'): 1,\n",
       "         ('Therese', 'female'): 1,\n",
       "         ('Michael', 'male'): 2,\n",
       "         ('Gregory', 'male'): 1})"
      ]
     },
     "execution_count": 26,
     "metadata": {},
     "output_type": "execute_result"
    }
   ],
   "source": [
    "gendered_names"
   ]
  },
  {
   "cell_type": "code",
   "execution_count": 29,
   "metadata": {},
   "outputs": [
    {
     "data": {
      "text/plain": [
       "1389"
      ]
     },
     "execution_count": 29,
     "metadata": {},
     "output_type": "execute_result"
    }
   ],
   "source": [
    "dickens_words.count('he')"
   ]
  },
  {
   "cell_type": "code",
   "execution_count": 30,
   "metadata": {},
   "outputs": [
    {
     "data": {
      "text/plain": [
       "324"
      ]
     },
     "execution_count": 30,
     "metadata": {},
     "output_type": "execute_result"
    }
   ],
   "source": [
    "dickens_words.count('she')"
   ]
  },
  {
   "cell_type": "code",
   "execution_count": 33,
   "metadata": {},
   "outputs": [
    {
     "data": {
      "text/plain": [
       "525"
      ]
     },
     "execution_count": 33,
     "metadata": {},
     "output_type": "execute_result"
    }
   ],
   "source": [
    "dickens_words.count('him')"
   ]
  },
  {
   "cell_type": "code",
   "execution_count": 34,
   "metadata": {},
   "outputs": [
    {
     "data": {
      "text/plain": [
       "818"
      ]
     },
     "execution_count": 34,
     "metadata": {},
     "output_type": "execute_result"
    }
   ],
   "source": [
    "dickens_words.count('her')"
   ]
  },
  {
   "cell_type": "code",
   "execution_count": 41,
   "metadata": {},
   "outputs": [],
   "source": [
    "class NovelGenderer:\n",
    "    def __init__(self, fname):\n",
    "        self.fname = fname\n",
    "        self.full_text = self.read()\n",
    "        self.tokenize()\n",
    "                \n",
    "    def read(self):\n",
    "        with open(self.fname) as fh:\n",
    "            out = fh.read()\n",
    "        return out\n",
    "    \n",
    "    def tokenize(self):\n",
    "        self.all_words = self.full_text.split()\n",
    "        self.cap_words = [w for w in self.all_words if w[0].upper() == w[0]]"
   ]
  },
  {
   "cell_type": "code",
   "execution_count": 42,
   "metadata": {},
   "outputs": [],
   "source": [
    "dickens = NovelGenderer('sample_novels/dickens_twocities.txt')"
   ]
  },
  {
   "cell_type": "code",
   "execution_count": 43,
   "metadata": {},
   "outputs": [],
   "source": [
    "eliot = NovelGenderer('sample_novels/eliot_middlemarch.txt')"
   ]
  },
  {
   "cell_type": "code",
   "execution_count": 50,
   "metadata": {},
   "outputs": [
    {
     "name": "stdout",
     "output_type": "stream",
     "text": [
      "he 3915\n",
      "she 2090\n"
     ]
    }
   ],
   "source": [
    "for pronoun in 'he she'.split():\n",
    "    print(pronoun, eliot.all_words.count(pronoun))"
   ]
  },
  {
   "cell_type": "code",
   "execution_count": 51,
   "metadata": {},
   "outputs": [
    {
     "data": {
      "text/plain": [
       "4885"
      ]
     },
     "execution_count": 51,
     "metadata": {},
     "output_type": "execute_result"
    }
   ],
   "source": [
    "eliot.all_words.count('him') + eliot.all_words.count('his')"
   ]
  },
  {
   "cell_type": "code",
   "execution_count": 53,
   "metadata": {},
   "outputs": [
    {
     "data": {
      "text/plain": [
       "3216"
      ]
     },
     "execution_count": 53,
     "metadata": {},
     "output_type": "execute_result"
    }
   ],
   "source": [
    "eliot.all_words.count('her') + eliot.all_words.count('hers')"
   ]
  },
  {
   "cell_type": "code",
   "execution_count": 57,
   "metadata": {},
   "outputs": [],
   "source": [
    "subjective_ratio =  eliot.all_words.count('she') / eliot.all_words.count('he')"
   ]
  },
  {
   "cell_type": "code",
   "execution_count": 58,
   "metadata": {},
   "outputs": [
    {
     "data": {
      "text/plain": [
       "0.5338441890166028"
      ]
     },
     "execution_count": 58,
     "metadata": {},
     "output_type": "execute_result"
    }
   ],
   "source": [
    "subjective_ratio"
   ]
  },
  {
   "cell_type": "code",
   "execution_count": 59,
   "metadata": {},
   "outputs": [],
   "source": [
    "objective_ratio = (eliot.all_words.count('her') + eliot.all_words.count('hers')) / (eliot.all_words.count('him') + eliot.all_words.count('his'))"
   ]
  },
  {
   "cell_type": "code",
   "execution_count": 60,
   "metadata": {},
   "outputs": [
    {
     "data": {
      "text/plain": [
       "0.6583418628454453"
      ]
     },
     "execution_count": 60,
     "metadata": {},
     "output_type": "execute_result"
    }
   ],
   "source": [
    "objective_ratio"
   ]
  },
  {
   "cell_type": "code",
   "execution_count": 49,
   "metadata": {},
   "outputs": [
    {
     "name": "stdout",
     "output_type": "stream",
     "text": [
      "he 704\n",
      "she 799\n",
      "him 267\n",
      "her 967\n",
      "his 614\n",
      "hers 4\n"
     ]
    }
   ],
   "source": [
    "for pronoun in 'he she him her his hers'.split():\n",
    "    print(pronoun, austen.all_words.count(pronoun))"
   ]
  },
  {
   "cell_type": "code",
   "execution_count": 48,
   "metadata": {},
   "outputs": [],
   "source": [
    "austen = NovelGenderer('sample_novels/austen_persuasion.txt')"
   ]
  },
  {
   "cell_type": "code",
   "execution_count": null,
   "metadata": {},
   "outputs": [],
   "source": []
  }
 ],
 "metadata": {
  "kernelspec": {
   "display_name": "Python 3",
   "language": "python",
   "name": "python3"
  },
  "language_info": {
   "codemirror_mode": {
    "name": "ipython",
    "version": 3
   },
   "file_extension": ".py",
   "mimetype": "text/x-python",
   "name": "python",
   "nbconvert_exporter": "python",
   "pygments_lexer": "ipython3",
   "version": "3.7.0"
  }
 },
 "nbformat": 4,
 "nbformat_minor": 2
}
