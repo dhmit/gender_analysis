{
 "cells": [
  {
   "cell_type": "markdown",
   "metadata": {},
   "source": [
    "# Testing\n",
    "\n",
    "In the Digital Humanities Lab, we're going to be ensuring that our code is thoroughly documented and tested. This is important because we are collaborating with others and we will also be sharing our code publicly. Once you get used to writing documentation, then tests, then code, you may find that writing the code comes more easily because you have already thought through what a function (for example) does and what the possible edge cases are.\n",
    "\n",
    "Not being careful and thorough with testing can cause significant problems. Some historical examples of failure due to not testing correctly or not testing thoroughly include:\n",
    "* [Mars Probe Lost Due to Simple Math Error](http://articles.latimes.com/1999/oct/01/news/mn-17288)\n",
    "* [Why carmakers always insisted on male crash dummies](https://www.boston.com/cars/news-and-reviews/2012/08/22/why-carmakers-always-insisted-on-male-crash-test-dummies)\n",
    "* [Boeing 787 Dreamliners contain a potentially catastrophic software bug](https://arstechnica.com/information-technology/2015/05/boeing-787-dreamliners-contain-a-potentially-catastrophic-software-bug/)\n",
    "\n",
    "While the lab will not be developing probes, cars, or airplanes, it is still important to test code to ensure that it is useful to other developers and end users. We recommend writing the test prior to writing the code.\n",
    "\n",
    "## doctest\n",
    "\n",
    "Python comes prepackaged with a test framework module called [doctest](https://docs.python.org/3.7/library/doctest.html). This module searches for pieces of text within code comments that look like interactive Python sessions wihin code, then executes those sessions in order to confirm that that code runs exactly as expected.\n",
    "\n",
    "The doctest also generates documentation for our code. We'll go through an example of using doctest with a function we create called `count_vowels()`.\n",
    "\n",
    "We start by naming the function and writing a doctest in triple quotes. "
   ]
  },
  {
   "cell_type": "code",
   "execution_count": 1,
   "metadata": {},
   "outputs": [],
   "source": [
    "def count_vowels(word):\n",
    "    \"\"\"\n",
    "    Given a single word, return the number of vowels in that single word.\n",
    "\n",
    "    >>> count_vowels('paris')\n",
    "    2\n",
    "    \"\"\""
   ]
  },
  {
   "cell_type": "markdown",
   "metadata": {},
   "source": [
    "So far, we have written a sentence on what the function does, and a test that if the word `paris` is provided, the function will return `2` as there are two vowels in that word. This provides a line of documentation and an example of the function with expected output for humans.\n",
    "\n",
    "We can also add documentation for computers to read, telling it that the computer should expect the parameter of `word` to be of type string, and that the function should return an integer."
   ]
  },
  {
   "cell_type": "code",
   "execution_count": 2,
   "metadata": {},
   "outputs": [],
   "source": [
    "def count_vowels(word):\n",
    "    \"\"\"\n",
    "    Given a single word, return the number of vowels in that single word.\n",
    "\n",
    "    >>> count_vowels('paris')\n",
    "    2\n",
    "    \n",
    "    :param word: str\n",
    "    :return: int\n",
    "    \"\"\""
   ]
  },
  {
   "cell_type": "markdown",
   "metadata": {},
   "source": [
    "With this completed, we need to write the function.\n",
    "\n",
    "We can run doctest by importing the module with `import doctest` and end our Python program with:\n",
    "\n",
    "```python\n",
    "doctest.testmod()\n",
    "```"
   ]
  },
  {
   "cell_type": "code",
   "execution_count": 3,
   "metadata": {},
   "outputs": [
    {
     "data": {
      "text/plain": [
       "TestResults(failed=0, attempted=1)"
      ]
     },
     "execution_count": 3,
     "metadata": {},
     "output_type": "execute_result"
    }
   ],
   "source": [
    "import doctest\n",
    "\n",
    "\n",
    "def count_vowels(word):\n",
    "    \"\"\"\n",
    "    Given a single word, return the number of vowels in that single word.\n",
    "\n",
    "    >>> count_vowels('paris')\n",
    "    2\n",
    "    \n",
    "    :param word: str\n",
    "    :return: int\n",
    "    \"\"\"\n",
    "    total = 0\n",
    "    for letter in word:\n",
    "        if letter in 'aeiou':\n",
    "            total += 1\n",
    "    return total\n",
    "\n",
    "doctest.testmod()"
   ]
  },
  {
   "cell_type": "code",
   "execution_count": 4,
   "metadata": {},
   "outputs": [
    {
     "data": {
      "text/plain": [
       "2"
      ]
     },
     "execution_count": 4,
     "metadata": {},
     "output_type": "execute_result"
    }
   ],
   "source": [
    "count_vowels('paris')"
   ]
  },
  {
   "cell_type": "markdown",
   "metadata": {},
   "source": [
    "So far our test works, and our function runs as expected. But, what happens if we use a word with an upper-case vowel?"
   ]
  },
  {
   "cell_type": "code",
   "execution_count": 4,
   "metadata": {},
   "outputs": [
    {
     "name": "stdout",
     "output_type": "stream",
     "text": [
      "**********************************************************************\n",
      "File \"__main__\", line 8, in __main__.count_vowels\n",
      "Failed example:\n",
      "    count_vowels('Oslo')\n",
      "Expected:\n",
      "    2\n",
      "Got:\n",
      "    1\n",
      "**********************************************************************\n",
      "1 items had failures:\n",
      "   1 of   2 in __main__.count_vowels\n",
      "***Test Failed*** 1 failures.\n"
     ]
    },
    {
     "data": {
      "text/plain": [
       "TestResults(failed=1, attempted=2)"
      ]
     },
     "execution_count": 4,
     "metadata": {},
     "output_type": "execute_result"
    }
   ],
   "source": [
    "def count_vowels(word):\n",
    "    \"\"\"\n",
    "    Given a single word, return the number of vowels in that single word.\n",
    "\n",
    "    >>> count_vowels('paris')\n",
    "    2\n",
    "    \n",
    "    >>> count_vowels('Oslo')\n",
    "    2\n",
    "    \n",
    "    :param word: str\n",
    "    :return: int\n",
    "    \"\"\"\n",
    "    total = 0\n",
    "    for letter in word:\n",
    "        if letter in 'aeiou':\n",
    "            total += 1\n",
    "    return total\n",
    "\n",
    "doctest.testmod()"
   ]
  },
  {
   "cell_type": "markdown",
   "metadata": {},
   "source": [
    "When we run the code above, the test fails because the upper-case `O` is not counted, let's amend that."
   ]
  },
  {
   "cell_type": "code",
   "execution_count": 5,
   "metadata": {},
   "outputs": [
    {
     "data": {
      "text/plain": [
       "TestResults(failed=0, attempted=2)"
      ]
     },
     "execution_count": 5,
     "metadata": {},
     "output_type": "execute_result"
    }
   ],
   "source": [
    "def count_vowels(word):\n",
    "    \"\"\"\n",
    "    Given a single word, return the number of vowels in that single word.\n",
    "\n",
    "    >>> count_vowels('paris')\n",
    "    2\n",
    "    \n",
    "    >>> count_vowels('Oslo')\n",
    "    2\n",
    "    \n",
    "    :param word: str\n",
    "    :return: int\n",
    "    \"\"\"\n",
    "    total = 0\n",
    "    for letter in word.lower():\n",
    "        if letter in 'aeiou':\n",
    "            total += 1\n",
    "    return total\n",
    "\n",
    "doctest.testmod()"
   ]
  },
  {
   "cell_type": "code",
   "execution_count": 7,
   "metadata": {},
   "outputs": [
    {
     "data": {
      "text/plain": [
       "2"
      ]
     },
     "execution_count": 7,
     "metadata": {},
     "output_type": "execute_result"
    }
   ],
   "source": [
    "count_vowels('Oslo')"
   ]
  },
  {
   "cell_type": "markdown",
   "metadata": {},
   "source": [
    "With doctest, you should always have an estimate ready to be able to verify what is being returned via your program. For a novel with 316,059 words like *Middlemarch*, how many vowels would you expect to have?\n",
    "\n",
    "From here, you can work to improve the tests, and through this testing improve the code so that it can accommodate  edge cases and the full range of possibilities. Start with the following:\n",
    "* Write a test for a type that is not a string (e.g. an integer)\n",
    "* Write a test for words that have the letter `y`, which is sometimes considered a vowel in English.\n",
    "* Write a test to handle `word` being a sentence — do you want a sentence to be passed to `word`?\n",
    "* Write a test to deal with accented vowels, like the `ï` in `naïve` or the two `é`s in `résumé`.\n",
    "\n",
    "## Resources\n",
    "* [Python 3.7 documentation for the doctest module](https://docs.python.org/3.7/library/doctest.html)\n",
    "* [doctest — Testing through Documentation](https://pymotw.com/3/doctest/)\n",
    "* [doctest Introduction](http://pythontesting.net/framework/doctest/doctest-introduction/)"
   ]
  }
 ],
 "metadata": {
  "kernelspec": {
   "display_name": "Python 3",
   "language": "python",
   "name": "python3"
  },
  "language_info": {
   "codemirror_mode": {
    "name": "ipython",
    "version": 3
   },
   "file_extension": ".py",
   "mimetype": "text/x-python",
   "name": "python",
   "nbconvert_exporter": "python",
   "pygments_lexer": "ipython3",
   "version": "3.7.0"
  }
 },
 "nbformat": 4,
 "nbformat_minor": 2
}
